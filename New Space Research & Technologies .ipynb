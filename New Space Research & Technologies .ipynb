{
 "cells": [
  {
   "cell_type": "code",
   "execution_count": 1,
   "metadata": {},
   "outputs": [],
   "source": [
    "# Importing the all the Important library .\n",
    "from selenium import webdriver\n",
    "from time import sleep\n",
    "from bs4 import BeautifulSoup, Comment\n",
    "import pandas as pd\n",
    "import os\n",
    "os.environ[\"LANG\"] = \"en_US.UTF-8\"\n",
    "\n",
    "%matplotlib inline\n",
    "import warnings\n",
    "warnings.filterwarnings(\"ignore\")\n",
    "\n",
    "from wordcloud import WordCloud, STOPWORDS\n",
    "\n",
    "import pandas as pd\n",
    "import numpy as np\n",
    "import nltk\n",
    "import string\n",
    "import matplotlib.pyplot as plt"
   ]
  },
  {
   "cell_type": "code",
   "execution_count": 2,
   "metadata": {},
   "outputs": [],
   "source": [
    "#Setting up Chrome webdriver Options\n",
    "chrome_options = webdriver.ChromeOptions()\n",
    "\n",
    "#setting  up local path of chrome binary file \n",
    "\n",
    "\n",
    "#creating Chrome webdriver instance with the set chrome_options\n",
    "driver = webdriver.Chrome(\"C:/Users/sujit/Downloads/chromedriver.exe\")\n",
    "\n",
    "link = \"https://play.google.com/store/apps/details?id=com.rovio.angrybirdsrio&showAllReviews=true\"\n",
    "driver.get(link)\n",
    "#driver.execute_script(\"window.scrollTo(0, document.body.scrollHeight)\")\n",
    "Ptitle = driver.find_element_by_class_name('AHFaub').text.replace(' ','')\n",
    "\n",
    "sleep(1)\n",
    "\n",
    "# for parsing the rating for the reviews \n",
    "starts = []\n",
    "for element in driver.find_elements_by_css_selector('.pf5lIe > div[aria-label]'):\n",
    "#     print(element.get_attribute(\"aria-label\"))\n",
    "    starts.append(element.get_attribute(\"aria-label\"))\n",
    "\n",
    "    \n",
    "# this loop is for getting only the numeric values form the reviews.\n",
    "import re\n",
    "Ratings=[]\n",
    "for i in starts:\n",
    "    temp = re.findall(r'\\d+', i) \n",
    "    Ratings.append(temp[0])\n",
    "    \n",
    "\n",
    "# for getting the reviews from google play store.\n",
    "reviews = []\n",
    "for element in driver.find_elements_by_css_selector('span[jsname=\"bN97Pc\"]'):\n",
    "    reviews.append(element.text)\n",
    "\n",
    "# processing the reviews .     \n",
    "final_review = []\n",
    "for i in reviews:\n",
    "    i = i.replace(\"...\\nFull Review\", \" \")\n",
    "    final_review.append(i)\n"
   ]
  },
  {
   "cell_type": "code",
   "execution_count": 3,
   "metadata": {},
   "outputs": [
    {
     "data": {
      "text/plain": [
       "40"
      ]
     },
     "execution_count": 3,
     "metadata": {},
     "output_type": "execute_result"
    }
   ],
   "source": [
    "len(final_review)"
   ]
  },
  {
   "cell_type": "code",
   "execution_count": 4,
   "metadata": {},
   "outputs": [
    {
     "data": {
      "text/plain": [
       "\"Wonderfull game with 2parts Rio and Rio 2 Also it's very easy to play I love this game you can play this with special power ups and birds like red,blue,chuck,bomb like the story\""
      ]
     },
     "execution_count": 4,
     "metadata": {},
     "output_type": "execute_result"
    }
   ],
   "source": [
    "# the reviews that we got from google play \n",
    "final_review[1]"
   ]
  },
  {
   "cell_type": "code",
   "execution_count": 5,
   "metadata": {},
   "outputs": [
    {
     "data": {
      "text/plain": [
       "['5', '5', '2', '4', '3', '5', '4', '2', '5']"
      ]
     },
     "execution_count": 5,
     "metadata": {},
     "output_type": "execute_result"
    }
   ],
   "source": [
    "# the ratings that we got from google play .\n",
    "Ratings[1:10]"
   ]
  },
  {
   "cell_type": "code",
   "execution_count": 6,
   "metadata": {},
   "outputs": [],
   "source": [
    "# this is general function for getting the words correct and having the full form rather than the shortcuts \n",
    "import re\n",
    "def decontracted(phrase):\n",
    "# specific\n",
    "    phrase = re.sub(r\"won't\", \"will not\", phrase)\n",
    "    phrase = re.sub(r\"can\\'t\", \"can not\", phrase)\n",
    "# general\n",
    "    phrase = re.sub(r\"n\\'t\", \" not\", phrase)\n",
    "    phrase = re.sub(r\"\\'re\", \" are\", phrase)\n",
    "    phrase = re.sub(r\"\\'s\", \" is\", phrase)\n",
    "    phrase = re.sub(r\"\\'d\", \" would\", phrase)\n",
    "    phrase = re.sub(r\"\\'ll\", \" will\", phrase)\n",
    "    phrase = re.sub(r\"\\'t\", \" not\", phrase)\n",
    "    phrase = re.sub(r\"\\'ve\", \" have\", phrase)\n",
    "    phrase = re.sub(r\"\\'m\", \" am\", phrase)\n",
    "    return phrase\n"
   ]
  },
  {
   "cell_type": "code",
   "execution_count": 7,
   "metadata": {},
   "outputs": [],
   "source": [
    "# these are the stop words \n",
    "stopwords= ['i', 'me', 'my', 'myself', 'we', 'our', 'ours', 'ourselves', 'you', \"you're\", \"you've\",\\\n",
    "            \"you'll\", \"you'd\", 'your', 'yours', 'yourself', 'yourselves', 'he', 'him', 'his', 'himself', \\\n",
    "            'she', \"she's\", 'her', 'hers', 'herself', 'it', \"it's\", 'its', 'itself', 'they', 'them', 'their',\\\n",
    "            'theirs', 'themselves', 'what', 'which', 'who', 'whom', 'this', 'that', \"that'll\", 'these', 'those', \\\n",
    "            'am', 'is', 'are', 'was', 'were', 'be', 'been', 'being', 'have', 'has', 'had', 'having', 'do', 'does', \\\n",
    "            'did', 'doing', 'a', 'an', 'the', 'and', 'but', 'if', 'or', 'because', 'as', 'until', 'while', 'of', \\\n",
    "            'at', 'by', 'for', 'with', 'about', 'against', 'between', 'into', 'through', 'during', 'before', 'after',\\\n",
    "            'above', 'below', 'to', 'from', 'up', 'down', 'in', 'out', 'on', 'off', 'over', 'under', 'again', 'further',\\\n",
    "            'then', 'once', 'here', 'there', 'when', 'where', 'why', 'how', 'all', 'any', 'both', 'each', 'few', 'more',\\\n",
    "            'most', 'other', 'some', 'such', 'only', 'own', 'same', 'so', 'than', 'too', 'very', \\\n",
    "            's', 't', 'can', 'will', 'just', 'don', \"don't\", 'should', \"should've\", 'now', 'd', 'll', 'm', 'o', 're', \\\n",
    "            've', 'y', 'ain', 'aren', \"aren't\", 'couldn', \"couldn't\", 'didn', \"didn't\", 'doesn', \"doesn't\", 'hadn',\\\n",
    "            \"hadn't\", 'hasn', \"hasn't\", 'haven', \"haven't\", 'isn', \"isn't\", 'ma', 'mightn', \"mightn't\", 'mustn',\\\n",
    "            \"mustn't\", 'needn', \"needn't\", 'shan', \"shan't\", 'shouldn', \"shouldn't\", 'wasn', \"wasn't\", 'weren', \"weren't\", \\\n",
    "            'won', \"won't\", 'wouldn', \"wouldn't\"]"
   ]
  },
  {
   "cell_type": "code",
   "execution_count": 8,
   "metadata": {},
   "outputs": [
    {
     "name": "stderr",
     "output_type": "stream",
     "text": [
      "100%|████████████████████████████████████████████████████████████████████████████████| 40/40 [00:00<00:00, 2678.31it/s]\n"
     ]
    }
   ],
   "source": [
    "# this function combines all of the functions of above .\n",
    "from tqdm import tqdm\n",
    "preprocessed_essays = []\n",
    "for sentance in tqdm(final_review):\n",
    "    sent = decontracted(sentance)\n",
    "    sent = sent.replace('\\\\r', ' ')\n",
    "    sent = sent.replace('\\\\\"', ' ')\n",
    "    sent = sent.replace('\\\\n', ' ')\n",
    "    sent = re.sub('[^A-Za-z0-9]+', ' ', sent)\n",
    "    sent = ' '.join(e for e in sent.split() if e.lower() not in stopwords)\n",
    "    preprocessed_essays.append(sent.lower().strip())"
   ]
  },
  {
   "cell_type": "code",
   "execution_count": 9,
   "metadata": {},
   "outputs": [
    {
     "data": {
      "text/plain": [
       "'wonderfull game 2parts rio rio 2 also easy play love game play special power ups birds like red blue chuck bomb like story'"
      ]
     },
     "execution_count": 9,
     "metadata": {},
     "output_type": "execute_result"
    }
   ],
   "source": [
    "# after the processing of the words .\n",
    "preprocessed_essays[1]"
   ]
  },
  {
   "cell_type": "code",
   "execution_count": 10,
   "metadata": {},
   "outputs": [],
   "source": [
    "# lets create the euqla lenth for both the reviews and the ratings \n",
    "Max_length_Review = len(preprocessed_essays)\n",
    "Ratings = Ratings[:Max_length_Review]\n"
   ]
  },
  {
   "cell_type": "code",
   "execution_count": 11,
   "metadata": {},
   "outputs": [
    {
     "name": "stdout",
     "output_type": "stream",
     "text": [
      "                                 preprocessed_review\n",
      "0  recommend download game worth loading killer g...\n",
      "1  wonderfull game 2parts rio rio 2 also easy pla...\n",
      "2  game came back 2012 enjoyed much 2019 installe...\n",
      "3  shame game wiped google play apple app store e...\n",
      "4  game freezes redeem daily gift love angry bird...\n"
     ]
    }
   ],
   "source": [
    "# creating a data frame for the preprocessed_reviews and the ratings \n",
    "\n",
    "df = pd.DataFrame(preprocessed_essays,columns=[\"preprocessed_review\"])\n",
    "\n",
    "print(df.head(5))"
   ]
  },
  {
   "cell_type": "code",
   "execution_count": 12,
   "metadata": {},
   "outputs": [
    {
     "data": {
      "text/html": [
       "<div>\n",
       "<style scoped>\n",
       "    .dataframe tbody tr th:only-of-type {\n",
       "        vertical-align: middle;\n",
       "    }\n",
       "\n",
       "    .dataframe tbody tr th {\n",
       "        vertical-align: top;\n",
       "    }\n",
       "\n",
       "    .dataframe thead th {\n",
       "        text-align: right;\n",
       "    }\n",
       "</style>\n",
       "<table border=\"1\" class=\"dataframe\">\n",
       "  <thead>\n",
       "    <tr style=\"text-align: right;\">\n",
       "      <th></th>\n",
       "      <th>preprocessed_review</th>\n",
       "      <th>Ratings</th>\n",
       "    </tr>\n",
       "  </thead>\n",
       "  <tbody>\n",
       "    <tr>\n",
       "      <th>0</th>\n",
       "      <td>recommend download game worth loading killer g...</td>\n",
       "      <td>4</td>\n",
       "    </tr>\n",
       "    <tr>\n",
       "      <th>1</th>\n",
       "      <td>wonderfull game 2parts rio rio 2 also easy pla...</td>\n",
       "      <td>5</td>\n",
       "    </tr>\n",
       "    <tr>\n",
       "      <th>2</th>\n",
       "      <td>game came back 2012 enjoyed much 2019 installe...</td>\n",
       "      <td>5</td>\n",
       "    </tr>\n",
       "    <tr>\n",
       "      <th>3</th>\n",
       "      <td>shame game wiped google play apple app store e...</td>\n",
       "      <td>2</td>\n",
       "    </tr>\n",
       "    <tr>\n",
       "      <th>4</th>\n",
       "      <td>game freezes redeem daily gift love angry bird...</td>\n",
       "      <td>4</td>\n",
       "    </tr>\n",
       "    <tr>\n",
       "      <th>5</th>\n",
       "      <td>played playing angry birds space stinks made h...</td>\n",
       "      <td>3</td>\n",
       "    </tr>\n",
       "    <tr>\n",
       "      <th>6</th>\n",
       "      <td>days people try find mind games comfort build ...</td>\n",
       "      <td>5</td>\n",
       "    </tr>\n",
       "    <tr>\n",
       "      <th>7</th>\n",
       "      <td>soon install game get level 7 smugglers den fr...</td>\n",
       "      <td>4</td>\n",
       "    </tr>\n",
       "    <tr>\n",
       "      <th>8</th>\n",
       "      <td>game could ask mobile game 100 recommended rem...</td>\n",
       "      <td>2</td>\n",
       "    </tr>\n",
       "    <tr>\n",
       "      <th>9</th>\n",
       "      <td>game great adds pop shot sort kills fun aspect...</td>\n",
       "      <td>5</td>\n",
       "    </tr>\n",
       "    <tr>\n",
       "      <th>10</th>\n",
       "      <td>actually lost coins collected fruits hardly lo...</td>\n",
       "      <td>2</td>\n",
       "    </tr>\n",
       "    <tr>\n",
       "      <th>11</th>\n",
       "      <td>good game seriously mind feel world one proble...</td>\n",
       "      <td>3</td>\n",
       "    </tr>\n",
       "    <tr>\n",
       "      <th>12</th>\n",
       "      <td>would give zero star worst controls cannot go ...</td>\n",
       "      <td>4</td>\n",
       "    </tr>\n",
       "    <tr>\n",
       "      <th>13</th>\n",
       "      <td>loved game ever since came think ridiculous wa...</td>\n",
       "      <td>1</td>\n",
       "    </tr>\n",
       "    <tr>\n",
       "      <th>14</th>\n",
       "      <td>levels cool playing last level rio 2 went sayi...</td>\n",
       "      <td>4</td>\n",
       "    </tr>\n",
       "    <tr>\n",
       "      <th>15</th>\n",
       "      <td>questioning rovio game found still similar ori...</td>\n",
       "      <td>1</td>\n",
       "    </tr>\n",
       "    <tr>\n",
       "      <th>16</th>\n",
       "      <td>bad app reason shoves 45 second unskipable ads...</td>\n",
       "      <td>3</td>\n",
       "    </tr>\n",
       "    <tr>\n",
       "      <th>17</th>\n",
       "      <td>great game love much playing last 2 years l ne...</td>\n",
       "      <td>2</td>\n",
       "    </tr>\n",
       "    <tr>\n",
       "      <th>18</th>\n",
       "      <td>love game today folloeing little sister somewh...</td>\n",
       "      <td>5</td>\n",
       "    </tr>\n",
       "    <tr>\n",
       "      <th>19</th>\n",
       "      <td>game freezes whenever connect device online so...</td>\n",
       "      <td>4</td>\n",
       "    </tr>\n",
       "    <tr>\n",
       "      <th>20</th>\n",
       "      <td>wonderful excitement game funny game game take...</td>\n",
       "      <td>1</td>\n",
       "    </tr>\n",
       "    <tr>\n",
       "      <th>21</th>\n",
       "      <td>fun play sometimes funny moments never never n...</td>\n",
       "      <td>5</td>\n",
       "    </tr>\n",
       "    <tr>\n",
       "      <th>22</th>\n",
       "      <td>much fun play freezes lot please fix asap othe...</td>\n",
       "      <td>5</td>\n",
       "    </tr>\n",
       "    <tr>\n",
       "      <th>23</th>\n",
       "      <td>one worst angry birds installments ever played...</td>\n",
       "      <td>5</td>\n",
       "    </tr>\n",
       "    <tr>\n",
       "      <th>24</th>\n",
       "      <td>levels impossible good game stressed</td>\n",
       "      <td>1</td>\n",
       "    </tr>\n",
       "    <tr>\n",
       "      <th>25</th>\n",
       "      <td>game glitches esp comes extra points using tools</td>\n",
       "      <td>3</td>\n",
       "    </tr>\n",
       "    <tr>\n",
       "      <th>26</th>\n",
       "      <td>fun game like click bait grandson not play wit...</td>\n",
       "      <td>3</td>\n",
       "    </tr>\n",
       "    <tr>\n",
       "      <th>27</th>\n",
       "      <td>used good game buy try remove game cause lost ...</td>\n",
       "      <td>1</td>\n",
       "    </tr>\n",
       "    <tr>\n",
       "      <th>28</th>\n",
       "      <td>loaded ads not even like alot disrupts gamepla...</td>\n",
       "      <td>1</td>\n",
       "    </tr>\n",
       "    <tr>\n",
       "      <th>29</th>\n",
       "      <td>love game many levels wish would keep adding l...</td>\n",
       "      <td>1</td>\n",
       "    </tr>\n",
       "    <tr>\n",
       "      <th>30</th>\n",
       "      <td>ti fun play game fi option unlock new chapter ...</td>\n",
       "      <td>5</td>\n",
       "    </tr>\n",
       "    <tr>\n",
       "      <th>31</th>\n",
       "      <td>sweet finished level 2000 angry birds 2 quit g...</td>\n",
       "      <td>3</td>\n",
       "    </tr>\n",
       "    <tr>\n",
       "      <th>32</th>\n",
       "      <td>ads option buy reasonable price would buy fact...</td>\n",
       "      <td>5</td>\n",
       "    </tr>\n",
       "    <tr>\n",
       "      <th>33</th>\n",
       "      <td>beautiful exciting game sound effect attractiv...</td>\n",
       "      <td>2</td>\n",
       "    </tr>\n",
       "    <tr>\n",
       "      <th>34</th>\n",
       "      <td>game good wanted play decided uninstall ads re...</td>\n",
       "      <td>5</td>\n",
       "    </tr>\n",
       "    <tr>\n",
       "      <th>35</th>\n",
       "      <td>going next level try watch video starts loading</td>\n",
       "      <td>3</td>\n",
       "    </tr>\n",
       "    <tr>\n",
       "      <th>36</th>\n",
       "      <td>funny many ads uninstalled 5 minutes better pl...</td>\n",
       "      <td>1</td>\n",
       "    </tr>\n",
       "    <tr>\n",
       "      <th>37</th>\n",
       "      <td>good game sometimes cannot free birds next day...</td>\n",
       "      <td>1</td>\n",
       "    </tr>\n",
       "    <tr>\n",
       "      <th>38</th>\n",
       "      <td>fun exciting game always return poppy go start...</td>\n",
       "      <td>5</td>\n",
       "    </tr>\n",
       "    <tr>\n",
       "      <th>39</th>\n",
       "      <td>love play game exciting clear hard levels</td>\n",
       "      <td>5</td>\n",
       "    </tr>\n",
       "  </tbody>\n",
       "</table>\n",
       "</div>"
      ],
      "text/plain": [
       "                                  preprocessed_review Ratings\n",
       "0   recommend download game worth loading killer g...       4\n",
       "1   wonderfull game 2parts rio rio 2 also easy pla...       5\n",
       "2   game came back 2012 enjoyed much 2019 installe...       5\n",
       "3   shame game wiped google play apple app store e...       2\n",
       "4   game freezes redeem daily gift love angry bird...       4\n",
       "5   played playing angry birds space stinks made h...       3\n",
       "6   days people try find mind games comfort build ...       5\n",
       "7   soon install game get level 7 smugglers den fr...       4\n",
       "8   game could ask mobile game 100 recommended rem...       2\n",
       "9   game great adds pop shot sort kills fun aspect...       5\n",
       "10  actually lost coins collected fruits hardly lo...       2\n",
       "11  good game seriously mind feel world one proble...       3\n",
       "12  would give zero star worst controls cannot go ...       4\n",
       "13  loved game ever since came think ridiculous wa...       1\n",
       "14  levels cool playing last level rio 2 went sayi...       4\n",
       "15  questioning rovio game found still similar ori...       1\n",
       "16  bad app reason shoves 45 second unskipable ads...       3\n",
       "17  great game love much playing last 2 years l ne...       2\n",
       "18  love game today folloeing little sister somewh...       5\n",
       "19  game freezes whenever connect device online so...       4\n",
       "20  wonderful excitement game funny game game take...       1\n",
       "21  fun play sometimes funny moments never never n...       5\n",
       "22  much fun play freezes lot please fix asap othe...       5\n",
       "23  one worst angry birds installments ever played...       5\n",
       "24               levels impossible good game stressed       1\n",
       "25   game glitches esp comes extra points using tools       3\n",
       "26  fun game like click bait grandson not play wit...       3\n",
       "27  used good game buy try remove game cause lost ...       1\n",
       "28  loaded ads not even like alot disrupts gamepla...       1\n",
       "29  love game many levels wish would keep adding l...       1\n",
       "30  ti fun play game fi option unlock new chapter ...       5\n",
       "31  sweet finished level 2000 angry birds 2 quit g...       3\n",
       "32  ads option buy reasonable price would buy fact...       5\n",
       "33  beautiful exciting game sound effect attractiv...       2\n",
       "34  game good wanted play decided uninstall ads re...       5\n",
       "35    going next level try watch video starts loading       3\n",
       "36  funny many ads uninstalled 5 minutes better pl...       1\n",
       "37  good game sometimes cannot free birds next day...       1\n",
       "38  fun exciting game always return poppy go start...       5\n",
       "39          love play game exciting clear hard levels       5"
      ]
     },
     "execution_count": 12,
     "metadata": {},
     "output_type": "execute_result"
    }
   ],
   "source": [
    "# adding the ratings to the dataframe . \n",
    "df[\"Ratings\"] =Ratings\n",
    "df"
   ]
  },
  {
   "cell_type": "code",
   "execution_count": 13,
   "metadata": {},
   "outputs": [],
   "source": [
    "\"\"\"here i have taken the thershold of 3 as \n",
    "if the rating is < = 3 then we will count it as negative else it will be postivie \"\"\"\n",
    "\n",
    "false_positive= []\n",
    "True_postive = []\n",
    "for i in range(Max_length_Review):\n",
    "    if (int(df[\"Ratings\"].values[i]) <= 3):\n",
    "        false_positive.append(df[\"preprocessed_review\"][i])\n",
    "    else:\n",
    "        True_postive.append(df[\"preprocessed_review\"][i])\n"
   ]
  },
  {
   "cell_type": "code",
   "execution_count": 19,
   "metadata": {},
   "outputs": [
    {
     "data": {
      "text/plain": [
       "21"
      ]
     },
     "execution_count": 19,
     "metadata": {},
     "output_type": "execute_result"
    }
   ],
   "source": [
    "len(false_positive)"
   ]
  },
  {
   "cell_type": "code",
   "execution_count": 21,
   "metadata": {},
   "outputs": [
    {
     "data": {
      "image/png": "[encoded data removed]",
      "text/plain": [
       "<Figure size 432x432 with 1 Axes>"
      ]
     },
     "metadata": {},
     "output_type": "display_data"
    }
   ],
   "source": [
    "\n",
    "\"\"\" Word Cloud for the Postive words \"\"\"\n",
    "comment_words = ' '\n",
    "stopwords = set(STOPWORDS)\n",
    "for val in True_postive :\n",
    "    val = str(val)\n",
    "    tokens = val.split()\n",
    "for i in range(len(tokens)):\n",
    "    tokens[i] = tokens[i].lower()\n",
    "for words in tokens :\n",
    "    comment_words = comment_words + words + ' '\n",
    "wordcloud = WordCloud(width = 800, height = 800, background_color ='white', stopwords = stopwords,min_font_size = 10).generate(comment_words)\n",
    "\n",
    "plt.figure(figsize = (6, 6), facecolor = None)\n",
    "plt.imshow(wordcloud)\n",
    "plt.axis(\"off\")\n",
    "plt.tight_layout(pad = 0)\n",
    "plt.show()"
   ]
  },
  {
   "cell_type": "code",
   "execution_count": 22,
   "metadata": {},
   "outputs": [
    {
     "data": {
      "image/png": "[encoded data removed]",
      "text/plain": [
       "<Figure size 432x432 with 1 Axes>"
      ]
     },
     "metadata": {},
     "output_type": "display_data"
    }
   ],
   "source": [
    "\"\"\" Word Cloud for the Negative words \"\"\"\n",
    "\n",
    "comment_words = ' '\n",
    "stopwords = set(STOPWORDS)\n",
    "for val in false_positive :\n",
    "    val = str(val)\n",
    "    tokens = val.split()\n",
    "for i in range(len(tokens)):\n",
    "    tokens[i] = tokens[i].lower()\n",
    "for words in tokens :\n",
    "    comment_words = comment_words + words + ' '\n",
    "wordcloud = WordCloud(width = 800, height = 800, background_color ='white', stopwords = stopwords,min_font_size = 10).generate(comment_words)\n",
    "\n",
    "plt.figure(figsize = (6, 6), facecolor = None)\n",
    "plt.imshow(wordcloud)\n",
    "plt.axis(\"off\")\n",
    "plt.tight_layout(pad = 0)\n",
    "plt.show()"
   ]
  }
 ],
 "metadata": {
  "kernelspec": {
   "display_name": "Python 3",
   "language": "python",
   "name": "python3"
  },
  "language_info": {
   "codemirror_mode": {
    "name": "ipython",
    "version": 3
   },
   "file_extension": ".py",
   "mimetype": "text/x-python",
   "name": "python",
   "nbconvert_exporter": "python",
   "pygments_lexer": "ipython3",
   "version": "3.6.5"
  }
 },
 "nbformat": 4,
 "nbformat_minor": 2
}
